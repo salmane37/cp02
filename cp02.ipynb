{
 "cells": [
  {
   "cell_type": "code",
   "execution_count": 8,
   "id": "d4c6fd8d",
   "metadata": {},
   "outputs": [
    {
     "name": "stdout",
     "output_type": "stream",
     "text": [
      "36\n"
     ]
    }
   ],
   "source": [
    "l = [2,3,6]\n",
    "m = 1\n",
    "for i in l:\n",
    "    m = m*i\n",
    "\n",
    "print(m)\n"
   ]
  },
  {
   "cell_type": "code",
   "execution_count": 9,
   "id": "70998490",
   "metadata": {},
   "outputs": [
    {
     "name": "stdout",
     "output_type": "stream",
     "text": [
      "[(2, 1), (1, 2), (2, 3), (4, 4), (2, 5)]\n"
     ]
    }
   ],
   "source": [
    "l = [(2, 5), (1, 2), (4, 4), (2, 3), (2, 1)]\n",
    "l.sort(key=lambda x: x[-1])\n",
    "print(l)"
   ]
  },
  {
   "cell_type": "code",
   "execution_count": 18,
   "id": "0a226a4a",
   "metadata": {},
   "outputs": [
    {
     "name": "stdout",
     "output_type": "stream",
     "text": [
      "{'a', 'd', 'c', 'b'}\n",
      "{'a': 400, 'd': 400, 'c': 300, 'b': 400}\n"
     ]
    }
   ],
   "source": [
    "d1 = {'a': 100, 'b': 200, 'c':300}\n",
    "d2 = {'a': 300, 'b': 200, 'd':400}\n",
    "keys = set (d1.keys()).union(d2.keys())\n",
    "print(keys)\n",
    "new_d = dict()\n",
    "for k in keys:\n",
    "    new_d[k] = d1.get(k,0) + d2.get(k,0)\n",
    "print(new_d)    "
   ]
  },
  {
   "cell_type": "code",
   "execution_count": 19,
   "id": "5dc59ad5",
   "metadata": {},
   "outputs": [
    {
     "name": "stdout",
     "output_type": "stream",
     "text": [
      "{1: 1, 2: 4, 3: 9, 4: 16, 5: 25, 6: 36, 7: 49, 8: 64}\n"
     ]
    }
   ],
   "source": [
    "n = 8 \n",
    "carres = {i: i*i for i in range(1, n+1)}\n",
    "print(carres)"
   ]
  },
  {
   "cell_type": "code",
   "execution_count": 20,
   "id": "db9ba5fa",
   "metadata": {},
   "outputs": [
    {
     "name": "stdout",
     "output_type": "stream",
     "text": [
      "{1: 1, 2: 4, 3: 9, 4: 16, 5: 25, 6: 36, 7: 49, 8: 64}\n"
     ]
    }
   ],
   "source": [
    "carres = dict()\n",
    "n = 8\n",
    "for i in range(1, n+1):\n",
    "    carres[i]= i*i\n",
    "print(carres)    "
   ]
  },
  {
   "cell_type": "code",
   "execution_count": 4,
   "id": "39768f16",
   "metadata": {},
   "outputs": [
    {
     "name": "stdout",
     "output_type": "stream",
     "text": [
      "[('item1', '12.20'), ('item2', '15.10'), ('item3', '24.5')]\n",
      "[('item3', '24.5'), ('item2', '15.10'), ('item1', '12.20')]\n"
     ]
    }
   ],
   "source": [
    "L = [('item1', '12.20'), ('item2', '15.10'), ('item3', '24.5')]\n",
    "L_sorted = sorted(L, key=lambda x: x[1], reverse=True)\n",
    "print(L)\n",
    "print(L_sorted)"
   ]
  },
  {
   "cell_type": "code",
   "execution_count": 6,
   "id": "b083d462",
   "metadata": {},
   "outputs": [
    {
     "name": "stdout",
     "output_type": "stream",
     "text": [
      "[('item3', '24.5'), ('item2', '15.10'), ('item1', '12.20')]\n"
     ]
    }
   ],
   "source": [
    "L = [('item1', '12.20'), ('item2', '15.10'), ('item3', '24.5')]\n",
    "L.sort(key=lambda x: x[1], reverse=True)\n",
    "print(L)\n"
   ]
  },
  {
   "cell_type": "code",
   "execution_count": null,
   "id": "8efafbc8",
   "metadata": {},
   "outputs": [],
   "source": []
  }
 ],
 "metadata": {
  "kernelspec": {
   "display_name": "Python 3 (ipykernel)",
   "language": "python",
   "name": "python3"
  },
  "language_info": {
   "codemirror_mode": {
    "name": "ipython",
    "version": 3
   },
   "file_extension": ".py",
   "mimetype": "text/x-python",
   "name": "python",
   "nbconvert_exporter": "python",
   "pygments_lexer": "ipython3",
   "version": "3.9.12"
  }
 },
 "nbformat": 4,
 "nbformat_minor": 5
}
